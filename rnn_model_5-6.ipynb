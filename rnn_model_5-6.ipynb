{
 "cells": [
  {
   "cell_type": "code",
   "execution_count": 46,
   "metadata": {},
   "outputs": [],
   "source": [
    "import pandas as pd\n",
    "\n",
    "from sklearn.preprocessing import StandardScaler\n",
    "from sklearn.model_selection import train_test_split\n",
    "from sklearn.metrics import accuracy_score\n",
    "\n",
    "from keras.models import Sequential\n",
    "from keras.layers import Dense,Dropout,GRU,LSTM\n",
    "from keras.optimizers import Adam\n",
    "from keras.preprocessing.sequence import TimeseriesGenerator\n",
    "from tensorflow import keras\n",
    "\n",
    "import pickle\n",
    "from pickle import dump,load\n",
    "\n",
    "from datetime import datetime\n",
    "\n",
    "import matplotlib.pyplot as plt\n",
    "%matplotlib inline "
   ]
  },
  {
   "cell_type": "markdown",
   "metadata": {},
   "source": [
    "### Import Data"
   ]
  },
  {
   "cell_type": "code",
   "execution_count": 78,
   "metadata": {},
   "outputs": [],
   "source": [
    "df = pd.read_csv('data/data_rnn.csv')"
   ]
  },
  {
   "cell_type": "code",
   "execution_count": 79,
   "metadata": {},
   "outputs": [],
   "source": [
    "#Raname columns\n",
    "df.rename(columns={'Unnamed: 0':'date'},inplace=True)"
   ]
  },
  {
   "cell_type": "code",
   "execution_count": 80,
   "metadata": {},
   "outputs": [
    {
     "data": {
      "text/html": [
       "<div>\n",
       "<style scoped>\n",
       "    .dataframe tbody tr th:only-of-type {\n",
       "        vertical-align: middle;\n",
       "    }\n",
       "\n",
       "    .dataframe tbody tr th {\n",
       "        vertical-align: top;\n",
       "    }\n",
       "\n",
       "    .dataframe thead th {\n",
       "        text-align: right;\n",
       "    }\n",
       "</style>\n",
       "<table border=\"1\" class=\"dataframe\">\n",
       "  <thead>\n",
       "    <tr style=\"text-align: right;\">\n",
       "      <th></th>\n",
       "      <th>mentions</th>\n",
       "      <th>followers</th>\n",
       "      <th>price</th>\n",
       "      <th>target</th>\n",
       "    </tr>\n",
       "    <tr>\n",
       "      <th>date</th>\n",
       "      <th></th>\n",
       "      <th></th>\n",
       "      <th></th>\n",
       "      <th></th>\n",
       "    </tr>\n",
       "  </thead>\n",
       "  <tbody>\n",
       "    <tr>\n",
       "      <th>2021-01-01</th>\n",
       "      <td>2.0</td>\n",
       "      <td>1.720597e+09</td>\n",
       "      <td>17.25</td>\n",
       "      <td>0</td>\n",
       "    </tr>\n",
       "    <tr>\n",
       "      <th>2021-01-02</th>\n",
       "      <td>1.0</td>\n",
       "      <td>1.633288e+09</td>\n",
       "      <td>17.25</td>\n",
       "      <td>0</td>\n",
       "    </tr>\n",
       "    <tr>\n",
       "      <th>2021-01-03</th>\n",
       "      <td>2.0</td>\n",
       "      <td>1.043636e+09</td>\n",
       "      <td>17.25</td>\n",
       "      <td>0</td>\n",
       "    </tr>\n",
       "    <tr>\n",
       "      <th>2021-01-04</th>\n",
       "      <td>2.0</td>\n",
       "      <td>1.760137e+09</td>\n",
       "      <td>17.25</td>\n",
       "      <td>0</td>\n",
       "    </tr>\n",
       "    <tr>\n",
       "      <th>2021-01-05</th>\n",
       "      <td>2.0</td>\n",
       "      <td>2.277719e+09</td>\n",
       "      <td>17.37</td>\n",
       "      <td>0</td>\n",
       "    </tr>\n",
       "    <tr>\n",
       "      <th>2021-01-06</th>\n",
       "      <td>1.0</td>\n",
       "      <td>1.621527e+09</td>\n",
       "      <td>18.36</td>\n",
       "      <td>1</td>\n",
       "    </tr>\n",
       "    <tr>\n",
       "      <th>2021-01-07</th>\n",
       "      <td>3.0</td>\n",
       "      <td>2.278927e+09</td>\n",
       "      <td>18.08</td>\n",
       "      <td>1</td>\n",
       "    </tr>\n",
       "    <tr>\n",
       "      <th>2021-01-08</th>\n",
       "      <td>2.0</td>\n",
       "      <td>2.059609e+09</td>\n",
       "      <td>17.69</td>\n",
       "      <td>1</td>\n",
       "    </tr>\n",
       "    <tr>\n",
       "      <th>2021-01-09</th>\n",
       "      <td>3.0</td>\n",
       "      <td>2.015346e+09</td>\n",
       "      <td>17.69</td>\n",
       "      <td>1</td>\n",
       "    </tr>\n",
       "    <tr>\n",
       "      <th>2021-01-10</th>\n",
       "      <td>5.0</td>\n",
       "      <td>1.005417e+09</td>\n",
       "      <td>19.94</td>\n",
       "      <td>1</td>\n",
       "    </tr>\n",
       "    <tr>\n",
       "      <th>2021-01-11</th>\n",
       "      <td>3.0</td>\n",
       "      <td>1.849940e+09</td>\n",
       "      <td>19.94</td>\n",
       "      <td>1</td>\n",
       "    </tr>\n",
       "    <tr>\n",
       "      <th>2021-01-12</th>\n",
       "      <td>7.0</td>\n",
       "      <td>2.849610e+09</td>\n",
       "      <td>19.95</td>\n",
       "      <td>1</td>\n",
       "    </tr>\n",
       "    <tr>\n",
       "      <th>2021-01-13</th>\n",
       "      <td>10.0</td>\n",
       "      <td>3.282917e+09</td>\n",
       "      <td>31.40</td>\n",
       "      <td>1</td>\n",
       "    </tr>\n",
       "    <tr>\n",
       "      <th>2021-01-14</th>\n",
       "      <td>8.0</td>\n",
       "      <td>2.891852e+09</td>\n",
       "      <td>39.91</td>\n",
       "      <td>1</td>\n",
       "    </tr>\n",
       "    <tr>\n",
       "      <th>2021-01-15</th>\n",
       "      <td>1.0</td>\n",
       "      <td>2.544728e+09</td>\n",
       "      <td>35.50</td>\n",
       "      <td>1</td>\n",
       "    </tr>\n",
       "    <tr>\n",
       "      <th>2021-01-16</th>\n",
       "      <td>2.0</td>\n",
       "      <td>2.651958e+09</td>\n",
       "      <td>35.50</td>\n",
       "      <td>1</td>\n",
       "    </tr>\n",
       "    <tr>\n",
       "      <th>2021-01-17</th>\n",
       "      <td>3.0</td>\n",
       "      <td>2.061823e+09</td>\n",
       "      <td>39.36</td>\n",
       "      <td>1</td>\n",
       "    </tr>\n",
       "    <tr>\n",
       "      <th>2021-01-18</th>\n",
       "      <td>1.0</td>\n",
       "      <td>2.530165e+09</td>\n",
       "      <td>39.36</td>\n",
       "      <td>1</td>\n",
       "    </tr>\n",
       "    <tr>\n",
       "      <th>2021-01-19</th>\n",
       "      <td>3.0</td>\n",
       "      <td>1.866825e+09</td>\n",
       "      <td>39.36</td>\n",
       "      <td>0</td>\n",
       "    </tr>\n",
       "    <tr>\n",
       "      <th>2021-01-20</th>\n",
       "      <td>6.0</td>\n",
       "      <td>2.829038e+09</td>\n",
       "      <td>39.12</td>\n",
       "      <td>1</td>\n",
       "    </tr>\n",
       "    <tr>\n",
       "      <th>2021-01-21</th>\n",
       "      <td>6.0</td>\n",
       "      <td>2.596091e+09</td>\n",
       "      <td>43.03</td>\n",
       "      <td>1</td>\n",
       "    </tr>\n",
       "    <tr>\n",
       "      <th>2021-01-22</th>\n",
       "      <td>21.0</td>\n",
       "      <td>3.013072e+09</td>\n",
       "      <td>65.01</td>\n",
       "      <td>1</td>\n",
       "    </tr>\n",
       "    <tr>\n",
       "      <th>2021-01-23</th>\n",
       "      <td>5.0</td>\n",
       "      <td>2.830607e+09</td>\n",
       "      <td>65.01</td>\n",
       "      <td>1</td>\n",
       "    </tr>\n",
       "    <tr>\n",
       "      <th>2021-01-24</th>\n",
       "      <td>12.0</td>\n",
       "      <td>1.830970e+09</td>\n",
       "      <td>76.79</td>\n",
       "      <td>1</td>\n",
       "    </tr>\n",
       "    <tr>\n",
       "      <th>2021-01-25</th>\n",
       "      <td>62.0</td>\n",
       "      <td>4.704375e+09</td>\n",
       "      <td>76.79</td>\n",
       "      <td>1</td>\n",
       "    </tr>\n",
       "  </tbody>\n",
       "</table>\n",
       "</div>"
      ],
      "text/plain": [
       "            mentions     followers  price  target\n",
       "date                                             \n",
       "2021-01-01       2.0  1.720597e+09  17.25       0\n",
       "2021-01-02       1.0  1.633288e+09  17.25       0\n",
       "2021-01-03       2.0  1.043636e+09  17.25       0\n",
       "2021-01-04       2.0  1.760137e+09  17.25       0\n",
       "2021-01-05       2.0  2.277719e+09  17.37       0\n",
       "2021-01-06       1.0  1.621527e+09  18.36       1\n",
       "2021-01-07       3.0  2.278927e+09  18.08       1\n",
       "2021-01-08       2.0  2.059609e+09  17.69       1\n",
       "2021-01-09       3.0  2.015346e+09  17.69       1\n",
       "2021-01-10       5.0  1.005417e+09  19.94       1\n",
       "2021-01-11       3.0  1.849940e+09  19.94       1\n",
       "2021-01-12       7.0  2.849610e+09  19.95       1\n",
       "2021-01-13      10.0  3.282917e+09  31.40       1\n",
       "2021-01-14       8.0  2.891852e+09  39.91       1\n",
       "2021-01-15       1.0  2.544728e+09  35.50       1\n",
       "2021-01-16       2.0  2.651958e+09  35.50       1\n",
       "2021-01-17       3.0  2.061823e+09  39.36       1\n",
       "2021-01-18       1.0  2.530165e+09  39.36       1\n",
       "2021-01-19       3.0  1.866825e+09  39.36       0\n",
       "2021-01-20       6.0  2.829038e+09  39.12       1\n",
       "2021-01-21       6.0  2.596091e+09  43.03       1\n",
       "2021-01-22      21.0  3.013072e+09  65.01       1\n",
       "2021-01-23       5.0  2.830607e+09  65.01       1\n",
       "2021-01-24      12.0  1.830970e+09  76.79       1\n",
       "2021-01-25      62.0  4.704375e+09  76.79       1"
      ]
     },
     "execution_count": 80,
     "metadata": {},
     "output_type": "execute_result"
    }
   ],
   "source": [
    "##Data Cleaning\n",
    "df.set_index('date',inplace=True)\n",
    "df.sort_index(inplace=True)\n",
    "df.head(25)"
   ]
  },
  {
   "cell_type": "markdown",
   "metadata": {},
   "source": [
    "Feature engineering for time series modelling"
   ]
  },
  {
   "cell_type": "code",
   "execution_count": 81,
   "metadata": {},
   "outputs": [
    {
     "data": {
      "image/png": "[encoded data removed]",
      "text/plain": [
       "<Figure size 864x504 with 1 Axes>"
      ]
     },
     "metadata": {
      "needs_background": "light"
     },
     "output_type": "display_data"
    }
   ],
   "source": [
    "#Remove any possible trend from the data\n",
    "df['price'] = df['price'].pct_change()\n",
    "\n",
    "#Create a cumulative sum of the count of mentions \n",
    "#Hype aroudn GME built over time, so it will help the model pickup on trends if we use the cumulagive mentions \n",
    "#over time \n",
    "df['cum_mentions'] = df['mentions'].cumsum()\n",
    "df.dropna(inplace=True)\n",
    "\n",
    "#Diplsay the de-trended the data\n",
    "df['price'].plot(figsize=(12,7));"
   ]
  },
  {
   "cell_type": "markdown",
   "metadata": {},
   "source": [
    "Baseline score"
   ]
  },
  {
   "cell_type": "code",
   "execution_count": 82,
   "metadata": {
    "scrolled": true
   },
   "outputs": [
    {
     "data": {
      "text/plain": [
       "0.5873015873015873"
      ]
     },
     "execution_count": 82,
     "metadata": {},
     "output_type": "execute_result"
    }
   ],
   "source": [
    "df['target'].mean()"
   ]
  },
  {
   "cell_type": "markdown",
   "metadata": {},
   "source": [
    "### Prepare our X,Y and train-test split"
   ]
  },
  {
   "cell_type": "code",
   "execution_count": 89,
   "metadata": {},
   "outputs": [
    {
     "data": {
      "text/html": [
       "<div>\n",
       "<style scoped>\n",
       "    .dataframe tbody tr th:only-of-type {\n",
       "        vertical-align: middle;\n",
       "    }\n",
       "\n",
       "    .dataframe tbody tr th {\n",
       "        vertical-align: top;\n",
       "    }\n",
       "\n",
       "    .dataframe thead th {\n",
       "        text-align: right;\n",
       "    }\n",
       "</style>\n",
       "<table border=\"1\" class=\"dataframe\">\n",
       "  <thead>\n",
       "    <tr style=\"text-align: right;\">\n",
       "      <th></th>\n",
       "      <th>mentions</th>\n",
       "      <th>followers</th>\n",
       "      <th>price</th>\n",
       "      <th>target</th>\n",
       "      <th>cum_mentions</th>\n",
       "    </tr>\n",
       "    <tr>\n",
       "      <th>date</th>\n",
       "      <th></th>\n",
       "      <th></th>\n",
       "      <th></th>\n",
       "      <th></th>\n",
       "      <th></th>\n",
       "    </tr>\n",
       "  </thead>\n",
       "  <tbody>\n",
       "    <tr>\n",
       "      <th>2021-01-02</th>\n",
       "      <td>1.0</td>\n",
       "      <td>1.633288e+09</td>\n",
       "      <td>0.000000</td>\n",
       "      <td>0</td>\n",
       "      <td>3.0</td>\n",
       "    </tr>\n",
       "    <tr>\n",
       "      <th>2021-01-03</th>\n",
       "      <td>2.0</td>\n",
       "      <td>1.043636e+09</td>\n",
       "      <td>0.000000</td>\n",
       "      <td>0</td>\n",
       "      <td>5.0</td>\n",
       "    </tr>\n",
       "    <tr>\n",
       "      <th>2021-01-04</th>\n",
       "      <td>2.0</td>\n",
       "      <td>1.760137e+09</td>\n",
       "      <td>0.000000</td>\n",
       "      <td>0</td>\n",
       "      <td>7.0</td>\n",
       "    </tr>\n",
       "    <tr>\n",
       "      <th>2021-01-05</th>\n",
       "      <td>2.0</td>\n",
       "      <td>2.277719e+09</td>\n",
       "      <td>0.006957</td>\n",
       "      <td>0</td>\n",
       "      <td>9.0</td>\n",
       "    </tr>\n",
       "    <tr>\n",
       "      <th>2021-01-06</th>\n",
       "      <td>1.0</td>\n",
       "      <td>1.621527e+09</td>\n",
       "      <td>0.056995</td>\n",
       "      <td>1</td>\n",
       "      <td>10.0</td>\n",
       "    </tr>\n",
       "  </tbody>\n",
       "</table>\n",
       "</div>"
      ],
      "text/plain": [
       "            mentions     followers     price  target  cum_mentions\n",
       "date                                                              \n",
       "2021-01-02       1.0  1.633288e+09  0.000000       0           3.0\n",
       "2021-01-03       2.0  1.043636e+09  0.000000       0           5.0\n",
       "2021-01-04       2.0  1.760137e+09  0.000000       0           7.0\n",
       "2021-01-05       2.0  2.277719e+09  0.006957       0           9.0\n",
       "2021-01-06       1.0  1.621527e+09  0.056995       1          10.0"
      ]
     },
     "execution_count": 89,
     "metadata": {},
     "output_type": "execute_result"
    }
   ],
   "source": [
    "df.head()"
   ]
  },
  {
   "cell_type": "code",
   "execution_count": 90,
   "metadata": {},
   "outputs": [],
   "source": [
    "#Create X and Y \n",
    "X = df.drop(columns=['target','mentions'])\n",
    "y = df['target'].values # turn this into a numpy array\n",
    "\n",
    "#Create train-test split\n",
    "X_train,X_test,y_train,y_test = train_test_split(X,y,shuffle=False)"
   ]
  },
  {
   "cell_type": "markdown",
   "metadata": {},
   "source": [
    "### Scaling and pre-porcessing the data"
   ]
  },
  {
   "cell_type": "code",
   "execution_count": 91,
   "metadata": {},
   "outputs": [],
   "source": [
    "#Scaling\n",
    "ss = StandardScaler()\n",
    "X_train_sc = ss.fit_transform(X_train)\n",
    "X_test_sc = ss.transform(X_test)"
   ]
  },
  {
   "cell_type": "code",
   "execution_count": 92,
   "metadata": {},
   "outputs": [],
   "source": [
    "#Convert data to a series using Time Series Generator\n",
    "train_sequences = TimeseriesGenerator(X_train_sc,y_train,length=3,batch_size=128)\n",
    "test_sequences = TimeseriesGenerator(X_test_sc,y_test,length=3,batch_size=128)"
   ]
  },
  {
   "cell_type": "markdown",
   "metadata": {},
   "source": [
    "### Neural net design and architecture definition"
   ]
  },
  {
   "cell_type": "code",
   "execution_count": 93,
   "metadata": {},
   "outputs": [],
   "source": [
    "#Design RNN\n",
    "\n",
    "model = Sequential()\n",
    "\n",
    "model.add(GRU(X_train.shape[1],input_shape=(3,X_train.shape[1]),return_sequences=True)) #True b/c next layer is also rnn\n",
    "\n",
    "model.add(GRU(X_train.shape[1],return_sequences=False))\n",
    "\n",
    "model.add(Dense(4,activation='relu'))\n",
    "\n",
    "model.add(Dense(1,activation='sigmoid'))\n",
    "\n",
    "model.compile(loss='binary_crossentropy',optimizer=Adam(),\n",
    "             metrics=['accuracy'])"
   ]
  },
  {
   "cell_type": "markdown",
   "metadata": {},
   "source": [
    "### Fit model and create predictions"
   ]
  },
  {
   "cell_type": "code",
   "execution_count": 94,
   "metadata": {},
   "outputs": [
    {
     "name": "stderr",
     "output_type": "stream",
     "text": [
      "/Users/noah/opt/anaconda3/lib/python3.8/site-packages/tensorflow/python/keras/engine/training.py:1844: UserWarning: `Model.fit_generator` is deprecated and will be removed in a future version. Please use `Model.fit`, which supports generators.\n",
      "  warnings.warn('`Model.fit_generator` is deprecated and '\n"
     ]
    },
    {
     "name": "stdout",
     "output_type": "stream",
     "text": [
      "Epoch 1/30\n",
      "1/1 [==============================] - 10s 10s/step - loss: 0.6699 - accuracy: 0.7273 - val_loss: 0.6664 - val_accuracy: 0.6154\n",
      "Epoch 2/30\n",
      "1/1 [==============================] - 0s 129ms/step - loss: 0.6687 - accuracy: 0.8182 - val_loss: 0.6662 - val_accuracy: 0.6154\n",
      "Epoch 3/30\n",
      "1/1 [==============================] - 0s 151ms/step - loss: 0.6674 - accuracy: 0.8409 - val_loss: 0.6660 - val_accuracy: 0.6154\n",
      "Epoch 4/30\n",
      "1/1 [==============================] - 0s 130ms/step - loss: 0.6661 - accuracy: 0.8409 - val_loss: 0.6658 - val_accuracy: 0.6154\n",
      "Epoch 5/30\n",
      "1/1 [==============================] - 0s 105ms/step - loss: 0.6648 - accuracy: 0.8409 - val_loss: 0.6656 - val_accuracy: 0.6154\n",
      "Epoch 6/30\n",
      "1/1 [==============================] - 0s 176ms/step - loss: 0.6635 - accuracy: 0.8409 - val_loss: 0.6654 - val_accuracy: 0.6154\n",
      "Epoch 7/30\n",
      "1/1 [==============================] - 0s 92ms/step - loss: 0.6622 - accuracy: 0.8409 - val_loss: 0.6653 - val_accuracy: 0.6923\n",
      "Epoch 8/30\n",
      "1/1 [==============================] - 0s 161ms/step - loss: 0.6609 - accuracy: 0.8409 - val_loss: 0.6652 - val_accuracy: 0.6923\n",
      "Epoch 9/30\n",
      "1/1 [==============================] - 0s 121ms/step - loss: 0.6596 - accuracy: 0.8409 - val_loss: 0.6651 - val_accuracy: 0.6923\n",
      "Epoch 10/30\n",
      "1/1 [==============================] - 0s 225ms/step - loss: 0.6583 - accuracy: 0.8409 - val_loss: 0.6650 - val_accuracy: 0.6923\n",
      "Epoch 11/30\n",
      "1/1 [==============================] - 0s 96ms/step - loss: 0.6570 - accuracy: 0.8409 - val_loss: 0.6649 - val_accuracy: 0.6923\n",
      "Epoch 12/30\n",
      "1/1 [==============================] - 0s 86ms/step - loss: 0.6557 - accuracy: 0.8409 - val_loss: 0.6649 - val_accuracy: 0.6923\n",
      "Epoch 13/30\n",
      "1/1 [==============================] - 0s 137ms/step - loss: 0.6544 - accuracy: 0.8409 - val_loss: 0.6650 - val_accuracy: 0.6923\n",
      "Epoch 14/30\n",
      "1/1 [==============================] - 0s 94ms/step - loss: 0.6530 - accuracy: 0.8409 - val_loss: 0.6652 - val_accuracy: 0.6923\n",
      "Epoch 15/30\n",
      "1/1 [==============================] - 0s 92ms/step - loss: 0.6517 - accuracy: 0.8409 - val_loss: 0.6654 - val_accuracy: 0.6923\n",
      "Epoch 16/30\n",
      "1/1 [==============================] - 0s 205ms/step - loss: 0.6504 - accuracy: 0.8409 - val_loss: 0.6657 - val_accuracy: 0.6923\n",
      "Epoch 17/30\n",
      "1/1 [==============================] - 0s 127ms/step - loss: 0.6490 - accuracy: 0.8409 - val_loss: 0.6661 - val_accuracy: 0.6923\n",
      "Epoch 18/30\n",
      "1/1 [==============================] - 0s 140ms/step - loss: 0.6477 - accuracy: 0.8409 - val_loss: 0.6667 - val_accuracy: 0.6923\n",
      "Epoch 19/30\n",
      "1/1 [==============================] - 0s 102ms/step - loss: 0.6463 - accuracy: 0.8409 - val_loss: 0.6672 - val_accuracy: 0.6923\n",
      "Epoch 20/30\n",
      "1/1 [==============================] - 0s 99ms/step - loss: 0.6449 - accuracy: 0.8409 - val_loss: 0.6678 - val_accuracy: 0.6923\n",
      "Epoch 21/30\n",
      "1/1 [==============================] - 0s 109ms/step - loss: 0.6434 - accuracy: 0.8409 - val_loss: 0.6684 - val_accuracy: 0.6923\n",
      "Epoch 22/30\n",
      "1/1 [==============================] - 0s 115ms/step - loss: 0.6419 - accuracy: 0.8409 - val_loss: 0.6690 - val_accuracy: 0.6923\n",
      "Epoch 23/30\n",
      "1/1 [==============================] - 0s 100ms/step - loss: 0.6404 - accuracy: 0.8409 - val_loss: 0.6696 - val_accuracy: 0.6923\n",
      "Epoch 24/30\n",
      "1/1 [==============================] - 0s 111ms/step - loss: 0.6388 - accuracy: 0.8409 - val_loss: 0.6703 - val_accuracy: 0.6154\n",
      "Epoch 25/30\n",
      "1/1 [==============================] - 0s 131ms/step - loss: 0.6374 - accuracy: 0.8409 - val_loss: 0.6710 - val_accuracy: 0.6154\n",
      "Epoch 26/30\n",
      "1/1 [==============================] - 0s 214ms/step - loss: 0.6359 - accuracy: 0.8409 - val_loss: 0.6717 - val_accuracy: 0.6154\n",
      "Epoch 27/30\n",
      "1/1 [==============================] - 1s 625ms/step - loss: 0.6344 - accuracy: 0.8409 - val_loss: 0.6725 - val_accuracy: 0.6154\n",
      "Epoch 28/30\n",
      "1/1 [==============================] - 0s 454ms/step - loss: 0.6329 - accuracy: 0.8409 - val_loss: 0.6732 - val_accuracy: 0.6154\n",
      "Epoch 29/30\n",
      "1/1 [==============================] - 0s 461ms/step - loss: 0.6314 - accuracy: 0.8409 - val_loss: 0.6741 - val_accuracy: 0.6154\n",
      "Epoch 30/30\n",
      "1/1 [==============================] - 0s 138ms/step - loss: 0.6299 - accuracy: 0.8409 - val_loss: 0.6751 - val_accuracy: 0.6154\n"
     ]
    }
   ],
   "source": [
    "#Fit model\n",
    "history = model.fit_generator(train_sequences,\n",
    "                   epochs=30,\n",
    "                   validation_data=test_sequences)"
   ]
  },
  {
   "cell_type": "code",
   "execution_count": 95,
   "metadata": {},
   "outputs": [
    {
     "data": {
      "text/plain": [
       "dict_keys(['loss', 'accuracy', 'val_loss', 'val_accuracy'])"
      ]
     },
     "execution_count": 95,
     "metadata": {},
     "output_type": "execute_result"
    }
   ],
   "source": [
    "history.history.keys()"
   ]
  },
  {
   "cell_type": "code",
   "execution_count": 96,
   "metadata": {},
   "outputs": [
    {
     "data": {
      "image/png": "[encoded data removed]",
      "text/plain": [
       "<Figure size 432x288 with 1 Axes>"
      ]
     },
     "metadata": {
      "needs_background": "light"
     },
     "output_type": "display_data"
    }
   ],
   "source": [
    "plt.plot(history.history['loss'],label='Train loss')\n",
    "plt.plot(history.history['val_loss'],label='Test loss')\n",
    "plt.legend();"
   ]
  },
  {
   "cell_type": "code",
   "execution_count": 97,
   "metadata": {},
   "outputs": [
    {
     "data": {
      "image/png": "[encoded data removed]",
      "text/plain": [
       "<Figure size 432x288 with 1 Axes>"
      ]
     },
     "metadata": {
      "needs_background": "light"
     },
     "output_type": "display_data"
    }
   ],
   "source": [
    "plt.plot(history.history['accuracy'],label='Train accuracy')\n",
    "plt.plot(history.history['val_accuracy'],label='Test accuracy')\n",
    "plt.legend();"
   ]
  },
  {
   "cell_type": "code",
   "execution_count": 98,
   "metadata": {},
   "outputs": [
    {
     "name": "stderr",
     "output_type": "stream",
     "text": [
      "/Users/noah/opt/anaconda3/lib/python3.8/site-packages/tensorflow/python/keras/engine/sequential.py:450: UserWarning: `model.predict_classes()` is deprecated and will be removed after 2021-01-01. Please use instead:* `np.argmax(model.predict(x), axis=-1)`,   if your model does multi-class classification   (e.g. if it uses a `softmax` last-layer activation).* `(model.predict(x) > 0.5).astype(\"int32\")`,   if your model does binary classification   (e.g. if it uses a `sigmoid` last-layer activation).\n",
      "  warnings.warn('`model.predict_classes()` is deprecated and '\n"
     ]
    },
    {
     "name": "stdout",
     "output_type": "stream",
     "text": [
      "WARNING:tensorflow:5 out of the last 5 calls to <function Model.make_predict_function.<locals>.predict_function at 0x7fd8d209a4c0> triggered tf.function retracing. Tracing is expensive and the excessive number of tracings could be due to (1) creating @tf.function repeatedly in a loop, (2) passing tensors with different shapes, (3) passing Python objects instead of tensors. For (1), please define your @tf.function outside of the loop. For (2), @tf.function has experimental_relax_shapes=True option that relaxes argument shapes that can avoid unnecessary retracing. For (3), please refer to https://www.tensorflow.org/guide/function#controlling_retracing and https://www.tensorflow.org/api_docs/python/tf/function for  more details.\n"
     ]
    },
    {
     "data": {
      "text/plain": [
       "array([[0],\n",
       "       [0],\n",
       "       [0],\n",
       "       [0],\n",
       "       [1],\n",
       "       [1],\n",
       "       [1],\n",
       "       [0],\n",
       "       [0],\n",
       "       [1],\n",
       "       [1],\n",
       "       [1],\n",
       "       [1]], dtype=int32)"
      ]
     },
     "execution_count": 98,
     "metadata": {},
     "output_type": "execute_result"
    }
   ],
   "source": [
    "model.predict_classes(test_sequences)"
   ]
  },
  {
   "cell_type": "code",
   "execution_count": 99,
   "metadata": {},
   "outputs": [
    {
     "data": {
      "text/plain": [
       "array([0, 0, 0, 0, 1, 1, 1, 1, 1, 1, 1, 1, 1, 1, 1, 1])"
      ]
     },
     "execution_count": 99,
     "metadata": {},
     "output_type": "execute_result"
    }
   ],
   "source": [
    "y_test"
   ]
  },
  {
   "cell_type": "markdown",
   "metadata": {},
   "source": [
    "### Export the model "
   ]
  },
  {
   "cell_type": "code",
   "execution_count": 102,
   "metadata": {
    "scrolled": false
   },
   "outputs": [
    {
     "name": "stderr",
     "output_type": "stream",
     "text": [
      "WARNING:absl:Found untraced functions such as gru_cell_12_layer_call_and_return_conditional_losses, gru_cell_12_layer_call_fn, gru_cell_13_layer_call_and_return_conditional_losses, gru_cell_13_layer_call_fn, gru_cell_12_layer_call_fn while saving (showing 5 of 10). These functions will not be directly callable after loading.\n",
      "WARNING:absl:Found untraced functions such as gru_cell_12_layer_call_and_return_conditional_losses, gru_cell_12_layer_call_fn, gru_cell_13_layer_call_and_return_conditional_losses, gru_cell_13_layer_call_fn, gru_cell_12_layer_call_fn while saving (showing 5 of 10). These functions will not be directly callable after loading.\n"
     ]
    },
    {
     "name": "stdout",
     "output_type": "stream",
     "text": [
      "INFO:tensorflow:Assets written to: assets/rrn_model.csv/assets\n"
     ]
    },
    {
     "name": "stderr",
     "output_type": "stream",
     "text": [
      "INFO:tensorflow:Assets written to: assets/rrn_model.csv/assets\n"
     ]
    }
   ],
   "source": [
    "#save model to disk\n",
    "model.save('assets/rrn_model.csv')\n",
    "\n",
    "#model = keras.models.load_model('assets/rrn_model.csv')"
   ]
  },
  {
   "cell_type": "code",
   "execution_count": 105,
   "metadata": {},
   "outputs": [],
   "source": [
    "#Save history for analysis\n",
    "with open('data/rnn_train_history.csv','wb') as file_pi:\n",
    "    pickle.dump(history.history,file_pi)"
   ]
  },
  {
   "cell_type": "code",
   "execution_count": null,
   "metadata": {},
   "outputs": [],
   "source": [
    "#Save standard scaler\n",
    "dump(ss,open('assets/scaler.pkl','wb'))"
   ]
  },
  {
   "cell_type": "markdown",
   "metadata": {},
   "source": [
    "### Making Predictions"
   ]
  },
  {
   "cell_type": "code",
   "execution_count": 19,
   "metadata": {},
   "outputs": [],
   "source": [
    "#Load and transform the data\n",
    "df = pd.read_csv('data/merge.csv')\n",
    "df.rename(columns={'Unnamed: 0':'date'},inplace=True)\n",
    "df.set_index('date',inplace=True)\n",
    "df.sort_index(inplace=True)\n",
    "df.dropna(inplace=True)"
   ]
  },
  {
   "cell_type": "code",
   "execution_count": 9,
   "metadata": {},
   "outputs": [],
   "source": [
    "model = keras.models.load_model('assets/rrn_model.csv')\n",
    "scaler = load(open('assets/scaler.pkl','rb'))"
   ]
  },
  {
   "cell_type": "code",
   "execution_count": 20,
   "metadata": {},
   "outputs": [],
   "source": [
    "#Create X and Y \n",
    "X = df.drop(columns=['target','mentions'])\n",
    "y = df['target'].values "
   ]
  },
  {
   "cell_type": "code",
   "execution_count": 21,
   "metadata": {},
   "outputs": [],
   "source": [
    "#Scale the data\n",
    "X_sc = scaler.transform(X)"
   ]
  },
  {
   "cell_type": "code",
   "execution_count": 22,
   "metadata": {},
   "outputs": [],
   "source": [
    "#Convert data to a series using Time Series Generator\n",
    "test_sequences = TimeseriesGenerator(X_sc,y,length=3,batch_size=128)"
   ]
  },
  {
   "cell_type": "code",
   "execution_count": 23,
   "metadata": {},
   "outputs": [
    {
     "name": "stderr",
     "output_type": "stream",
     "text": [
      "/Users/noah/opt/anaconda3/lib/python3.8/site-packages/tensorflow/python/keras/engine/sequential.py:450: UserWarning: `model.predict_classes()` is deprecated and will be removed after 2021-01-01. Please use instead:* `np.argmax(model.predict(x), axis=-1)`,   if your model does multi-class classification   (e.g. if it uses a `softmax` last-layer activation).* `(model.predict(x) > 0.5).astype(\"int32\")`,   if your model does binary classification   (e.g. if it uses a `sigmoid` last-layer activation).\n",
      "  warnings.warn('`model.predict_classes()` is deprecated and '\n"
     ]
    }
   ],
   "source": [
    "#Create predictions\n",
    "preds = model.predict_classes(test_sequences)"
   ]
  },
  {
   "cell_type": "code",
   "execution_count": 68,
   "metadata": {},
   "outputs": [],
   "source": [
    "#Layer in dates as index to predictions dataframe\n",
    "dates = pd.date_range(start='2021-03-09',end='2021-04-02')\n",
    "predictions = dates.to_frame()\n",
    "predictions['buy_or_sell'] = preds\n",
    "predictions.drop([0],axis=1,inplace=True)"
   ]
  },
  {
   "cell_type": "code",
   "execution_count": 64,
   "metadata": {},
   "outputs": [
    {
     "data": {
      "text/html": [
       "<div>\n",
       "<style scoped>\n",
       "    .dataframe tbody tr th:only-of-type {\n",
       "        vertical-align: middle;\n",
       "    }\n",
       "\n",
       "    .dataframe tbody tr th {\n",
       "        vertical-align: top;\n",
       "    }\n",
       "\n",
       "    .dataframe thead th {\n",
       "        text-align: right;\n",
       "    }\n",
       "</style>\n",
       "<table border=\"1\" class=\"dataframe\">\n",
       "  <thead>\n",
       "    <tr style=\"text-align: right;\">\n",
       "      <th></th>\n",
       "      <th>buy_or_sell</th>\n",
       "    </tr>\n",
       "  </thead>\n",
       "  <tbody>\n",
       "    <tr>\n",
       "      <th>2021-03-09</th>\n",
       "      <td>1</td>\n",
       "    </tr>\n",
       "    <tr>\n",
       "      <th>2021-03-10</th>\n",
       "      <td>1</td>\n",
       "    </tr>\n",
       "    <tr>\n",
       "      <th>2021-03-11</th>\n",
       "      <td>1</td>\n",
       "    </tr>\n",
       "    <tr>\n",
       "      <th>2021-03-12</th>\n",
       "      <td>1</td>\n",
       "    </tr>\n",
       "    <tr>\n",
       "      <th>2021-03-13</th>\n",
       "      <td>1</td>\n",
       "    </tr>\n",
       "    <tr>\n",
       "      <th>2021-03-14</th>\n",
       "      <td>1</td>\n",
       "    </tr>\n",
       "    <tr>\n",
       "      <th>2021-03-15</th>\n",
       "      <td>1</td>\n",
       "    </tr>\n",
       "    <tr>\n",
       "      <th>2021-03-16</th>\n",
       "      <td>1</td>\n",
       "    </tr>\n",
       "    <tr>\n",
       "      <th>2021-03-17</th>\n",
       "      <td>1</td>\n",
       "    </tr>\n",
       "    <tr>\n",
       "      <th>2021-03-18</th>\n",
       "      <td>1</td>\n",
       "    </tr>\n",
       "    <tr>\n",
       "      <th>2021-03-19</th>\n",
       "      <td>1</td>\n",
       "    </tr>\n",
       "    <tr>\n",
       "      <th>2021-03-20</th>\n",
       "      <td>1</td>\n",
       "    </tr>\n",
       "    <tr>\n",
       "      <th>2021-03-21</th>\n",
       "      <td>1</td>\n",
       "    </tr>\n",
       "    <tr>\n",
       "      <th>2021-03-22</th>\n",
       "      <td>1</td>\n",
       "    </tr>\n",
       "    <tr>\n",
       "      <th>2021-03-23</th>\n",
       "      <td>1</td>\n",
       "    </tr>\n",
       "    <tr>\n",
       "      <th>2021-03-24</th>\n",
       "      <td>1</td>\n",
       "    </tr>\n",
       "    <tr>\n",
       "      <th>2021-03-25</th>\n",
       "      <td>1</td>\n",
       "    </tr>\n",
       "    <tr>\n",
       "      <th>2021-03-26</th>\n",
       "      <td>1</td>\n",
       "    </tr>\n",
       "    <tr>\n",
       "      <th>2021-03-27</th>\n",
       "      <td>1</td>\n",
       "    </tr>\n",
       "    <tr>\n",
       "      <th>2021-03-28</th>\n",
       "      <td>1</td>\n",
       "    </tr>\n",
       "    <tr>\n",
       "      <th>2021-03-29</th>\n",
       "      <td>1</td>\n",
       "    </tr>\n",
       "    <tr>\n",
       "      <th>2021-03-30</th>\n",
       "      <td>1</td>\n",
       "    </tr>\n",
       "    <tr>\n",
       "      <th>2021-03-31</th>\n",
       "      <td>1</td>\n",
       "    </tr>\n",
       "    <tr>\n",
       "      <th>2021-04-01</th>\n",
       "      <td>1</td>\n",
       "    </tr>\n",
       "    <tr>\n",
       "      <th>2021-04-02</th>\n",
       "      <td>1</td>\n",
       "    </tr>\n",
       "  </tbody>\n",
       "</table>\n",
       "</div>"
      ],
      "text/plain": [
       "            buy_or_sell\n",
       "2021-03-09            1\n",
       "2021-03-10            1\n",
       "2021-03-11            1\n",
       "2021-03-12            1\n",
       "2021-03-13            1\n",
       "2021-03-14            1\n",
       "2021-03-15            1\n",
       "2021-03-16            1\n",
       "2021-03-17            1\n",
       "2021-03-18            1\n",
       "2021-03-19            1\n",
       "2021-03-20            1\n",
       "2021-03-21            1\n",
       "2021-03-22            1\n",
       "2021-03-23            1\n",
       "2021-03-24            1\n",
       "2021-03-25            1\n",
       "2021-03-26            1\n",
       "2021-03-27            1\n",
       "2021-03-28            1\n",
       "2021-03-29            1\n",
       "2021-03-30            1\n",
       "2021-03-31            1\n",
       "2021-04-01            1\n",
       "2021-04-02            1"
      ]
     },
     "execution_count": 64,
     "metadata": {},
     "output_type": "execute_result"
    }
   ],
   "source": [
    "#Show predictions\n",
    "predictions"
   ]
  }
 ],
 "metadata": {
  "kernelspec": {
   "display_name": "Python 3",
   "language": "python",
   "name": "python3"
  },
  "language_info": {
   "codemirror_mode": {
    "name": "ipython",
    "version": 3
   },
   "file_extension": ".py",
   "mimetype": "text/x-python",
   "name": "python",
   "nbconvert_exporter": "python",
   "pygments_lexer": "ipython3",
   "version": "3.8.5"
  }
 },
 "nbformat": 4,
 "nbformat_minor": 4
}
